{
 "cells": [
  {
   "cell_type": "code",
   "execution_count": 1,
   "id": "38b821a9",
   "metadata": {},
   "outputs": [],
   "source": [
    "import os\n",
    "import pandas as pd\n",
    "import numpy as np"
   ]
  },
  {
   "cell_type": "code",
   "execution_count": 2,
   "id": "2cfa544f",
   "metadata": {},
   "outputs": [],
   "source": [
    "my_dir = r'C:\\Users\\gauta\\OneDrive\\Desktop\\class\\Deep Learning\\Code\\Deep_Learning\\CNN\\dataset'"
   ]
  },
  {
   "cell_type": "code",
   "execution_count": 3,
   "id": "b02dc417",
   "metadata": {},
   "outputs": [],
   "source": [
    "train_dir = os.path.join(my_dir, 'train_set')\n",
    "test_dir = os.path.join(my_dir, 'test_set')"
   ]
  },
  {
   "cell_type": "code",
   "execution_count": 4,
   "id": "6c65f9d5",
   "metadata": {},
   "outputs": [],
   "source": [
    "# Directory with our training cat pictures\n",
    "train_cats_dir = os.path.join(train_dir,'cats')\n",
    "\n",
    "# Directory with our training dog pictures\n",
    "train_dogs_dir = os.path.join(train_dir, 'dogs')\n",
    "\n",
    "# Directory with our Testing cat pictures\n",
    "test_cats_dir = os.path.join(test_dir, 'cats')\n",
    "\n",
    "# Directory with our Testing dog pictures\n",
    "test_dogs_dir = os.path.join(test_dir, 'dogs')"
   ]
  },
  {
   "cell_type": "code",
   "execution_count": 5,
   "id": "ceafcb97",
   "metadata": {},
   "outputs": [
    {
     "name": "stdout",
     "output_type": "stream",
     "text": [
      "C:\\Users\\gauta\\OneDrive\\Desktop\\class\\Deep Learning\\Code\\Deep_Learning\\CNN\\dataset\\train_set\\cats\n",
      "C:\\Users\\gauta\\OneDrive\\Desktop\\class\\Deep Learning\\Code\\Deep_Learning\\CNN\\dataset\\train_set\\dogs\n",
      "C:\\Users\\gauta\\OneDrive\\Desktop\\class\\Deep Learning\\Code\\Deep_Learning\\CNN\\dataset\\test_set\\cats\n",
      "C:\\Users\\gauta\\OneDrive\\Desktop\\class\\Deep Learning\\Code\\Deep_Learning\\CNN\\dataset\\test_set\\dogs\n"
     ]
    }
   ],
   "source": [
    "print(train_cats_dir)\n",
    "print(train_dogs_dir)\n",
    "print(test_cats_dir)\n",
    "print(test_dogs_dir)"
   ]
  },
  {
   "cell_type": "code",
   "execution_count": 6,
   "id": "0b0cb6dc",
   "metadata": {},
   "outputs": [
    {
     "name": "stdout",
     "output_type": "stream",
     "text": [
      "total training cat images: 97\n",
      "total training dog images: 97\n",
      "total testing cat images: 96\n",
      "total testing dog images: 96\n"
     ]
    }
   ],
   "source": [
    "print('total training cat images:', len(train_cats_dir))\n",
    "print('total training dog images:', len(train_dogs_dir))\n",
    "print('total testing cat images:', len(test_cats_dir))\n",
    "print('total testing dog images:', len(test_dogs_dir))"
   ]
  },
  {
   "cell_type": "code",
   "execution_count": 7,
   "id": "ff8aa9d3",
   "metadata": {},
   "outputs": [],
   "source": [
    "from keras.models import Sequential\n",
    "from keras.layers import Conv2D\n",
    "from keras.layers import MaxPooling2D\n",
    "from keras.layers import Flatten\n",
    "from keras.layers import Dense"
   ]
  },
  {
   "cell_type": "code",
   "execution_count": 18,
   "id": "7de73f11",
   "metadata": {},
   "outputs": [],
   "source": [
    "cnn_classifier=Sequential()\n",
    "#Step1:Convolution\n",
    "cnn_classifier.add(Conv2D(32,3,3,input_shape=(64,64,3),activation='relu'))\n",
    "#Step2: pooling\n",
    "cnn_classifier.add(MaxPooling2D(pool_size=(2,2)))\n",
    "\n",
    "cnn_classifier.add(Conv2D(16,3,3,activation='relu'))\n",
    "cnn_classifier.add(MaxPooling2D(pool_size=(2,2)))\n",
    "#Step3: flattening\n",
    "cnn_classifier.add(Flatten())\n",
    "\n",
    "#step 4 Full connection\n",
    "cnn_classifier.add(Dense(units=128,activation='relu'))\n",
    "cnn_classifier.add(Dense(units=1,activation='sigmoid'))\n",
    "\n",
    "#Compiling the CNN\n",
    "cnn_classifier.compile(optimizer='adam',loss='binary_crossentropy',metrics=['accuracy'])"
   ]
  },
  {
   "cell_type": "code",
   "execution_count": 19,
   "id": "69f8916c",
   "metadata": {},
   "outputs": [
    {
     "name": "stdout",
     "output_type": "stream",
     "text": [
      "Found 8000 images belonging to 2 classes.\n",
      "Found 2000 images belonging to 2 classes.\n",
      "Epoch 1/10\n"
     ]
    },
    {
     "name": "stderr",
     "output_type": "stream",
     "text": [
      "C:\\Users\\gauta\\AppData\\Local\\Temp\\ipykernel_21136\\2468096542.py:20: UserWarning: `Model.fit_generator` is deprecated and will be removed in a future version. Please use `Model.fit`, which supports generators.\n",
      "  cnn_classifier.fit_generator(training_set,\n"
     ]
    },
    {
     "name": "stdout",
     "output_type": "stream",
     "text": [
      "100/100 [==============================] - ETA: 0s - loss: 0.6937 - accuracy: 0.5141WARNING:tensorflow:Your input ran out of data; interrupting training. Make sure that your dataset or generator can generate at least `steps_per_epoch * epochs` batches (in this case, 100 batches). You may need to use the repeat() function when building your dataset.\n",
      "100/100 [==============================] - 14s 141ms/step - loss: 0.6937 - accuracy: 0.5141 - val_loss: 0.6933 - val_accuracy: 0.5000\n",
      "Epoch 2/10\n",
      "100/100 [==============================] - 9s 92ms/step - loss: 0.6931 - accuracy: 0.5028\n",
      "Epoch 3/10\n",
      "100/100 [==============================] - 9s 94ms/step - loss: 0.6923 - accuracy: 0.5175\n",
      "Epoch 4/10\n",
      "100/100 [==============================] - 9s 94ms/step - loss: 0.6908 - accuracy: 0.5197\n",
      "Epoch 5/10\n",
      "100/100 [==============================] - 9s 90ms/step - loss: 0.6842 - accuracy: 0.5619\n",
      "Epoch 6/10\n",
      "100/100 [==============================] - 10s 97ms/step - loss: 0.6765 - accuracy: 0.5663\n",
      "Epoch 7/10\n",
      "100/100 [==============================] - 9s 91ms/step - loss: 0.6673 - accuracy: 0.5844\n",
      "Epoch 8/10\n",
      "100/100 [==============================] - 9s 90ms/step - loss: 0.6654 - accuracy: 0.5981\n",
      "Epoch 9/10\n",
      "100/100 [==============================] - 9s 89ms/step - loss: 0.6577 - accuracy: 0.6066\n",
      "Epoch 10/10\n",
      "100/100 [==============================] - 9s 89ms/step - loss: 0.6611 - accuracy: 0.6100\n"
     ]
    },
    {
     "data": {
      "text/plain": [
       "<keras.callbacks.History at 0x221d710ecd0>"
      ]
     },
     "execution_count": 19,
     "metadata": {},
     "output_type": "execute_result"
    }
   ],
   "source": [
    "from keras.preprocessing.image import ImageDataGenerator\n",
    "\n",
    "train_data = ImageDataGenerator(rescale = 1./255,\n",
    "                                   shear_range = 0.2,\n",
    "                                   zoom_range = 0.2,\n",
    "                                   horizontal_flip = True)\n",
    "\n",
    "test_data = ImageDataGenerator(rescale = 1./255)\n",
    "\n",
    "training_set = train_data.flow_from_directory('C:/Users/gauta/OneDrive/Desktop/class/Deep Learning/Code/Deep_Learning/CNN/dataset/training_set',\n",
    "                                                 target_size = (64, 64),\n",
    "                                                 batch_size = 32,\n",
    "                                                 class_mode = 'binary')\n",
    "\n",
    "test_set = test_data.flow_from_directory('C:/Users/gauta/OneDrive/Desktop/class/Deep Learning/Code/Deep_Learning/CNN/dataset/test_set',\n",
    "                                            target_size = (64, 64),\n",
    "                                            batch_size = 32,\n",
    "                                            class_mode = 'binary')\n",
    "\n",
    "cnn_classifier.fit_generator(training_set,\n",
    "                         steps_per_epoch = 100,\n",
    "                         epochs = 10,\n",
    "                         validation_data = test_set,\n",
    "                         validation_steps = 100)"
   ]
  },
  {
   "cell_type": "code",
   "execution_count": 14,
   "id": "4f4689b1",
   "metadata": {},
   "outputs": [
    {
     "name": "stdout",
     "output_type": "stream",
     "text": [
      "1/1 [==============================] - 0s 15ms/step\n",
      "dog\n"
     ]
    }
   ],
   "source": [
    "# predicting dog or cat using trained model\n",
    "import numpy as np\n",
    "import keras\n",
    "test_image=keras.utils.load_img(r'C:\\Users\\gauta\\OneDrive\\Desktop\\class\\Deep Learning\\Code\\Deep_Learning\\CNN\\dataset\\single_prediction\\cat_or_dog_1.jpg',target_size=(64,64))\n",
    "test_image=keras.utils.img_to_array(test_image)\n",
    "test_image=np.expand_dims(test_image,axis=0)\n",
    "result=cnn_classifier.predict(test_image)\n",
    "training_set.class_indices\n",
    "if result[0][0]==1:\n",
    "    prediction='dog'\n",
    "else:\n",
    "    prediction='cat'\n",
    "print(prediction)"
   ]
  },
  {
   "cell_type": "code",
   "execution_count": 15,
   "id": "dc2a43b6",
   "metadata": {},
   "outputs": [
    {
     "name": "stdout",
     "output_type": "stream",
     "text": [
      "1/1 [==============================] - 0s 15ms/step\n",
      "dog\n"
     ]
    }
   ],
   "source": [
    "import numpy as np\n",
    "import keras\n",
    "test_image=keras.utils.load_img(r'C:\\Users\\gauta\\OneDrive\\Desktop\\class\\Deep Learning\\Code\\Deep_Learning\\CNN\\dataset\\single_prediction\\cat_or_dog_2.jpg',target_size=(64,64))\n",
    "test_image=keras.utils.img_to_array(test_image)\n",
    "test_image=np.expand_dims(test_image,axis=0)\n",
    "result=cnn_classifier.predict(test_image)\n",
    "training_set.class_indices\n",
    "if result[0][0]==1:\n",
    "    prediction='dog'\n",
    "else:\n",
    "    prediction='cat'\n",
    "print(prediction)"
   ]
  },
  {
   "cell_type": "code",
   "execution_count": null,
   "id": "7943fc1f",
   "metadata": {},
   "outputs": [],
   "source": []
  }
 ],
 "metadata": {
  "kernelspec": {
   "display_name": "Python 3 (ipykernel)",
   "language": "python",
   "name": "python3"
  },
  "language_info": {
   "codemirror_mode": {
    "name": "ipython",
    "version": 3
   },
   "file_extension": ".py",
   "mimetype": "text/x-python",
   "name": "python",
   "nbconvert_exporter": "python",
   "pygments_lexer": "ipython3",
   "version": "3.9.7"
  }
 },
 "nbformat": 4,
 "nbformat_minor": 5
}
